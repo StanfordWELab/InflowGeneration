{
 "cells": [
  {
   "cell_type": "code",
   "execution_count": null,
   "id": "8103c65b",
   "metadata": {},
   "outputs": [],
   "source": [
    "%load_ext autoreload\n",
    "%autoreload 2\n",
    "# %matplotlib widget\n",
    "%pdb off\n",
    "\n",
    "from pyCascade.cti import lesCreateImage as lcm\n",
    "from pyCascade.cti import lesCreateMovie as vcm\n",
    "import os\n",
    "from matplotlib import pyplot as plt\n",
    "import cv2 as cv\n",
    "import numpy as np\n",
    "import scipy as sp\n",
    "import json\n",
    "\n",
    "############ Universal ################\n",
    "home_dir = !pwd\n",
    "display(home_dir)"
   ]
  },
  {
   "cell_type": "code",
   "execution_count": 17,
   "id": "1cbb5b37",
   "metadata": {},
   "outputs": [],
   "source": [
    "case = \"LRB_Cat_B_geometric_1to0\"\n",
    "caseConfig = json.load(open(f\"./{case}/caseConfig.json\"))\n",
    "H_build = caseConfig[\"scaleFactors\"][\"H_build\"]\n",
    "scale = caseConfig[\"scaleFactors\"][\"scale\"]\n",
    "alpha = caseConfig[\"reference\"][\"alpha\"]\n",
    "scaling = 1.5*H_build * scale / alpha\n",
    "hDomain = 3\n",
    "# wDomain = caseConfig[\"wDomain\"]\n",
    "# Uscaling = caseConfig[\"scaleFactors\"][\"Uscaling\"]"
   ]
  },
  {
   "cell_type": "code",
   "execution_count": null,
   "id": "435b1b24",
   "metadata": {},
   "outputs": [],
   "source": [
    "def process_flow_image(image_path, max=100, H=hDomain):\n",
    "    image = vcm.process_image(image_path, varlist=['planar'], cmaplist=None, data_min=[0], data_max=[max])\n",
    "    image *= max\n",
    "    background_value = sp.stats.mode(image, axis=None).mode\n",
    "    non_bg = (image != background_value)\n",
    "    if non_bg.size > 0:\n",
    "        # Find the indices of non-background pixels\n",
    "        rows = np.where(non_bg.any(axis=1))[0]\n",
    "        cols = np.where(non_bg.any(axis=0))[0]\n",
    "\n",
    "        if rows.size and cols.size:\n",
    "            y_min, y_max = rows[0], rows[-1]\n",
    "            x_min, x_max = cols[0], cols[-1]\n",
    "            image = image[y_min:y_max+1, x_min:x_max+1]\n",
    "        print(\"Cropped image shape:\", image.shape)\n",
    "    fig, ax = plt.subplots(1, 2, figsize=(8, 4))\n",
    "    ax[1].imshow(image)\n",
    "\n",
    "    horizontal_avg = np.mean(image, axis=1)\n",
    "    ax[0].plot(horizontal_avg, np.linspace(H, 0, len(horizontal_avg)))\n",
    "    label = image_path.split('/')[-1].split('.')[0]\n",
    "    ax[0].set_ylabel(\"H\")\n",
    "    ax[0].set_xlabel(label)\n",
    "    ax[0].set_title(\"Horizontal Average Profile\")\n",
    "    return\n",
    "\n",
    "qois = [\"avg_u\", \"mag_u\", \"rms_p\", \"rms_u\", \"rms_v\"]\n",
    "step = \"00030000\"\n",
    "for qoi in qois:\n",
    "    image_path = f\"{case}/image/0p6_{qoi}.{step}.png\"\n",
    "    process_flow_image(image_path, max=100)"
   ]
  }
 ],
 "metadata": {
  "kernelspec": {
   "display_name": "pycascade",
   "language": "python",
   "name": "python3"
  },
  "language_info": {
   "codemirror_mode": {
    "name": "ipython",
    "version": 3
   },
   "file_extension": ".py",
   "mimetype": "text/x-python",
   "name": "python",
   "nbconvert_exporter": "python",
   "pygments_lexer": "ipython3",
   "version": "3.10.12"
  }
 },
 "nbformat": 4,
 "nbformat_minor": 5
}
